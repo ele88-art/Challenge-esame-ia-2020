{
 "cells": [
  {
   "cell_type": "markdown",
   "metadata": {},
   "source": [
    "# Import the basic python libraries"
   ]
  },
  {
   "cell_type": "code",
   "execution_count": 4,
   "metadata": {},
   "outputs": [],
   "source": [
    "import pandas as pd\n",
    "import numpy as np\n",
    "import seaborn as sns\n",
    "import matplotlib.pyplot as plt \n",
    "import matplotlib\n",
    "%matplotlib inline\n",
    "import seaborn as sns\n",
    "get_ipython().run_line_magic('matplotlib', 'inline')\n",
    "sns.set(style='white', context='notebook', palette='deep')\n",
    "\n",
    "import glob\n",
    "from datetime import datetime\n",
    "\n",
    "import sklearn #A Machine Learning library\n",
    "from sklearn.linear_model import LogisticRegression\n",
    "from sklearn.metrics import confusion_matrix\n",
    "from sklearn.metrics import classification_report\n",
    "\n",
    "import warnings\n",
    "warnings.filterwarnings('ignore')\n",
    "\n"
   ]
  },
  {
   "cell_type": "markdown",
   "metadata": {},
   "source": [
    "# Read the datasets"
   ]
  },
  {
   "cell_type": "code",
   "execution_count": 7,
   "metadata": {},
   "outputs": [
    {
     "name": "stdout",
     "output_type": "stream",
     "text": [
      "<class 'pandas.core.frame.DataFrame'>\n",
      "RangeIndex: 70736 entries, 0 to 70735\n",
      "Data columns (total 14 columns):\n",
      " #   Column          Non-Null Count  Dtype  \n",
      "---  ------          --------------  -----  \n",
      " 0   No-show         70736 non-null  object \n",
      " 1   PatientId       70736 non-null  float64\n",
      " 2   AppointmentID   70736 non-null  int64  \n",
      " 3   Gender          70736 non-null  object \n",
      " 4   ScheduledDay    70736 non-null  object \n",
      " 5   AppointmentDay  70736 non-null  object \n",
      " 6   Age             70736 non-null  int64  \n",
      " 7   Neighbourhood   70736 non-null  object \n",
      " 8   Scholarship     70736 non-null  int64  \n",
      " 9   Hipertension    70736 non-null  int64  \n",
      " 10  Diabetes        70736 non-null  int64  \n",
      " 11  Alcoholism      70736 non-null  int64  \n",
      " 12  Handcap         70736 non-null  int64  \n",
      " 13  SMS_received    70736 non-null  int64  \n",
      "dtypes: float64(1), int64(8), object(5)\n",
      "memory usage: 7.6+ MB\n",
      "<class 'pandas.core.frame.DataFrame'>\n",
      "RangeIndex: 17685 entries, 0 to 17684\n",
      "Data columns (total 14 columns):\n",
      " #   Column          Non-Null Count  Dtype  \n",
      "---  ------          --------------  -----  \n",
      " 0   No-show         17685 non-null  object \n",
      " 1   PatientId       17685 non-null  float64\n",
      " 2   AppointmentID   17685 non-null  int64  \n",
      " 3   Gender          17685 non-null  object \n",
      " 4   ScheduledDay    17685 non-null  object \n",
      " 5   AppointmentDay  17685 non-null  object \n",
      " 6   Age             17685 non-null  int64  \n",
      " 7   Neighbourhood   17685 non-null  object \n",
      " 8   Scholarship     17685 non-null  int64  \n",
      " 9   Hipertension    17685 non-null  int64  \n",
      " 10  Diabetes        17685 non-null  int64  \n",
      " 11  Alcoholism      17685 non-null  int64  \n",
      " 12  Handcap         17685 non-null  int64  \n",
      " 13  SMS_received    17685 non-null  int64  \n",
      "dtypes: float64(1), int64(8), object(5)\n",
      "memory usage: 1.9+ MB\n"
     ]
    }
   ],
   "source": [
    "train = pd.read_csv(\"train.csv\")\n",
    "test = pd.read_csv(\"test.csv\")\n",
    "# Non ho specificato alcuna cartella assoluta in quanto i \n",
    "#csv si trovano nella stessa cartella del notebook di training\n",
    "train.info()\n",
    "test.info()"
   ]
  },
  {
   "cell_type": "markdown",
   "metadata": {},
   "source": [
    "# Exploratory data analysis"
   ]
  },
  {
   "cell_type": "markdown",
   "metadata": {},
   "source": [
    "### Describe data"
   ]
  },
  {
   "cell_type": "code",
   "execution_count": 138,
   "metadata": {},
   "outputs": [
    {
     "data": {
      "text/html": [
       "<div>\n",
       "<style scoped>\n",
       "    .dataframe tbody tr th:only-of-type {\n",
       "        vertical-align: middle;\n",
       "    }\n",
       "\n",
       "    .dataframe tbody tr th {\n",
       "        vertical-align: top;\n",
       "    }\n",
       "\n",
       "    .dataframe thead th {\n",
       "        text-align: right;\n",
       "    }\n",
       "</style>\n",
       "<table border=\"1\" class=\"dataframe\">\n",
       "  <thead>\n",
       "    <tr style=\"text-align: right;\">\n",
       "      <th></th>\n",
       "      <th>PatientId</th>\n",
       "      <th>AppointmentID</th>\n",
       "      <th>Age</th>\n",
       "      <th>Scholarship</th>\n",
       "      <th>Hipertension</th>\n",
       "      <th>Diabetes</th>\n",
       "      <th>Alcoholism</th>\n",
       "      <th>Handcap</th>\n",
       "      <th>SMS_received</th>\n",
       "    </tr>\n",
       "  </thead>\n",
       "  <tbody>\n",
       "    <tr>\n",
       "      <th>count</th>\n",
       "      <td>7.073600e+04</td>\n",
       "      <td>7.073600e+04</td>\n",
       "      <td>70736.000000</td>\n",
       "      <td>70736.000000</td>\n",
       "      <td>70736.000000</td>\n",
       "      <td>70736.000000</td>\n",
       "      <td>70736.000000</td>\n",
       "      <td>70736.00000</td>\n",
       "      <td>70736.000000</td>\n",
       "    </tr>\n",
       "    <tr>\n",
       "      <th>mean</th>\n",
       "      <td>1.478240e+14</td>\n",
       "      <td>5.675431e+06</td>\n",
       "      <td>37.171384</td>\n",
       "      <td>0.099553</td>\n",
       "      <td>0.198386</td>\n",
       "      <td>0.072551</td>\n",
       "      <td>0.030480</td>\n",
       "      <td>0.02228</td>\n",
       "      <td>0.321873</td>\n",
       "    </tr>\n",
       "    <tr>\n",
       "      <th>std</th>\n",
       "      <td>2.560265e+14</td>\n",
       "      <td>7.132269e+04</td>\n",
       "      <td>23.067551</td>\n",
       "      <td>0.299406</td>\n",
       "      <td>0.398787</td>\n",
       "      <td>0.259401</td>\n",
       "      <td>0.171904</td>\n",
       "      <td>0.16324</td>\n",
       "      <td>0.467198</td>\n",
       "    </tr>\n",
       "    <tr>\n",
       "      <th>min</th>\n",
       "      <td>3.921784e+04</td>\n",
       "      <td>5.030230e+06</td>\n",
       "      <td>0.000000</td>\n",
       "      <td>0.000000</td>\n",
       "      <td>0.000000</td>\n",
       "      <td>0.000000</td>\n",
       "      <td>0.000000</td>\n",
       "      <td>0.00000</td>\n",
       "      <td>0.000000</td>\n",
       "    </tr>\n",
       "    <tr>\n",
       "      <th>25%</th>\n",
       "      <td>4.168386e+12</td>\n",
       "      <td>5.640464e+06</td>\n",
       "      <td>18.000000</td>\n",
       "      <td>0.000000</td>\n",
       "      <td>0.000000</td>\n",
       "      <td>0.000000</td>\n",
       "      <td>0.000000</td>\n",
       "      <td>0.00000</td>\n",
       "      <td>0.000000</td>\n",
       "    </tr>\n",
       "    <tr>\n",
       "      <th>50%</th>\n",
       "      <td>3.232918e+13</td>\n",
       "      <td>5.680778e+06</td>\n",
       "      <td>37.000000</td>\n",
       "      <td>0.000000</td>\n",
       "      <td>0.000000</td>\n",
       "      <td>0.000000</td>\n",
       "      <td>0.000000</td>\n",
       "      <td>0.00000</td>\n",
       "      <td>0.000000</td>\n",
       "    </tr>\n",
       "    <tr>\n",
       "      <th>75%</th>\n",
       "      <td>9.464947e+13</td>\n",
       "      <td>5.725629e+06</td>\n",
       "      <td>55.250000</td>\n",
       "      <td>0.000000</td>\n",
       "      <td>0.000000</td>\n",
       "      <td>0.000000</td>\n",
       "      <td>0.000000</td>\n",
       "      <td>0.00000</td>\n",
       "      <td>1.000000</td>\n",
       "    </tr>\n",
       "    <tr>\n",
       "      <th>max</th>\n",
       "      <td>9.999816e+14</td>\n",
       "      <td>5.790481e+06</td>\n",
       "      <td>115.000000</td>\n",
       "      <td>1.000000</td>\n",
       "      <td>1.000000</td>\n",
       "      <td>1.000000</td>\n",
       "      <td>1.000000</td>\n",
       "      <td>4.00000</td>\n",
       "      <td>1.000000</td>\n",
       "    </tr>\n",
       "  </tbody>\n",
       "</table>\n",
       "</div>"
      ],
      "text/plain": [
       "          PatientId  AppointmentID           Age   Scholarship  Hipertension  \\\n",
       "count  7.073600e+04   7.073600e+04  70736.000000  70736.000000  70736.000000   \n",
       "mean   1.478240e+14   5.675431e+06     37.171384      0.099553      0.198386   \n",
       "std    2.560265e+14   7.132269e+04     23.067551      0.299406      0.398787   \n",
       "min    3.921784e+04   5.030230e+06      0.000000      0.000000      0.000000   \n",
       "25%    4.168386e+12   5.640464e+06     18.000000      0.000000      0.000000   \n",
       "50%    3.232918e+13   5.680778e+06     37.000000      0.000000      0.000000   \n",
       "75%    9.464947e+13   5.725629e+06     55.250000      0.000000      0.000000   \n",
       "max    9.999816e+14   5.790481e+06    115.000000      1.000000      1.000000   \n",
       "\n",
       "           Diabetes    Alcoholism      Handcap  SMS_received  \n",
       "count  70736.000000  70736.000000  70736.00000  70736.000000  \n",
       "mean       0.072551      0.030480      0.02228      0.321873  \n",
       "std        0.259401      0.171904      0.16324      0.467198  \n",
       "min        0.000000      0.000000      0.00000      0.000000  \n",
       "25%        0.000000      0.000000      0.00000      0.000000  \n",
       "50%        0.000000      0.000000      0.00000      0.000000  \n",
       "75%        0.000000      0.000000      0.00000      1.000000  \n",
       "max        1.000000      1.000000      4.00000      1.000000  "
      ]
     },
     "execution_count": 138,
     "metadata": {},
     "output_type": "execute_result"
    }
   ],
   "source": [
    "train.describe()\n",
    "\n"
   ]
  },
  {
   "cell_type": "code",
   "execution_count": 140,
   "metadata": {},
   "outputs": [
    {
     "data": {
      "text/html": [
       "<div>\n",
       "<style scoped>\n",
       "    .dataframe tbody tr th:only-of-type {\n",
       "        vertical-align: middle;\n",
       "    }\n",
       "\n",
       "    .dataframe tbody tr th {\n",
       "        vertical-align: top;\n",
       "    }\n",
       "\n",
       "    .dataframe thead th {\n",
       "        text-align: right;\n",
       "    }\n",
       "</style>\n",
       "<table border=\"1\" class=\"dataframe\">\n",
       "  <thead>\n",
       "    <tr style=\"text-align: right;\">\n",
       "      <th></th>\n",
       "      <th>PatientId</th>\n",
       "      <th>AppointmentID</th>\n",
       "      <th>Age</th>\n",
       "      <th>Scholarship</th>\n",
       "      <th>Hipertension</th>\n",
       "      <th>Diabetes</th>\n",
       "      <th>Alcoholism</th>\n",
       "      <th>Handcap</th>\n",
       "      <th>SMS_received</th>\n",
       "    </tr>\n",
       "  </thead>\n",
       "  <tbody>\n",
       "    <tr>\n",
       "      <th>count</th>\n",
       "      <td>1.768500e+04</td>\n",
       "      <td>1.768500e+04</td>\n",
       "      <td>17685.000000</td>\n",
       "      <td>17685.000000</td>\n",
       "      <td>17685.000000</td>\n",
       "      <td>17685.000000</td>\n",
       "      <td>17685.000000</td>\n",
       "      <td>17685.000000</td>\n",
       "      <td>17685.000000</td>\n",
       "    </tr>\n",
       "    <tr>\n",
       "      <th>mean</th>\n",
       "      <td>1.511027e+14</td>\n",
       "      <td>5.675234e+06</td>\n",
       "      <td>36.937631</td>\n",
       "      <td>0.097936</td>\n",
       "      <td>0.196777</td>\n",
       "      <td>0.071416</td>\n",
       "      <td>0.031269</td>\n",
       "      <td>0.022844</td>\n",
       "      <td>0.320271</td>\n",
       "    </tr>\n",
       "    <tr>\n",
       "      <th>std</th>\n",
       "      <td>2.612568e+14</td>\n",
       "      <td>7.136192e+04</td>\n",
       "      <td>23.250527</td>\n",
       "      <td>0.297237</td>\n",
       "      <td>0.397574</td>\n",
       "      <td>0.257526</td>\n",
       "      <td>0.174050</td>\n",
       "      <td>0.159657</td>\n",
       "      <td>0.466594</td>\n",
       "    </tr>\n",
       "    <tr>\n",
       "      <th>min</th>\n",
       "      <td>4.374176e+04</td>\n",
       "      <td>5.134197e+06</td>\n",
       "      <td>0.000000</td>\n",
       "      <td>0.000000</td>\n",
       "      <td>0.000000</td>\n",
       "      <td>0.000000</td>\n",
       "      <td>0.000000</td>\n",
       "      <td>0.000000</td>\n",
       "      <td>0.000000</td>\n",
       "    </tr>\n",
       "    <tr>\n",
       "      <th>25%</th>\n",
       "      <td>4.164541e+12</td>\n",
       "      <td>5.640550e+06</td>\n",
       "      <td>17.000000</td>\n",
       "      <td>0.000000</td>\n",
       "      <td>0.000000</td>\n",
       "      <td>0.000000</td>\n",
       "      <td>0.000000</td>\n",
       "      <td>0.000000</td>\n",
       "      <td>0.000000</td>\n",
       "    </tr>\n",
       "    <tr>\n",
       "      <th>50%</th>\n",
       "      <td>2.985670e+13</td>\n",
       "      <td>5.680669e+06</td>\n",
       "      <td>37.000000</td>\n",
       "      <td>0.000000</td>\n",
       "      <td>0.000000</td>\n",
       "      <td>0.000000</td>\n",
       "      <td>0.000000</td>\n",
       "      <td>0.000000</td>\n",
       "      <td>0.000000</td>\n",
       "    </tr>\n",
       "    <tr>\n",
       "      <th>75%</th>\n",
       "      <td>9.458256e+13</td>\n",
       "      <td>5.725225e+06</td>\n",
       "      <td>55.000000</td>\n",
       "      <td>0.000000</td>\n",
       "      <td>0.000000</td>\n",
       "      <td>0.000000</td>\n",
       "      <td>0.000000</td>\n",
       "      <td>0.000000</td>\n",
       "      <td>1.000000</td>\n",
       "    </tr>\n",
       "    <tr>\n",
       "      <th>max</th>\n",
       "      <td>9.999350e+14</td>\n",
       "      <td>5.790376e+06</td>\n",
       "      <td>115.000000</td>\n",
       "      <td>1.000000</td>\n",
       "      <td>1.000000</td>\n",
       "      <td>1.000000</td>\n",
       "      <td>1.000000</td>\n",
       "      <td>4.000000</td>\n",
       "      <td>1.000000</td>\n",
       "    </tr>\n",
       "  </tbody>\n",
       "</table>\n",
       "</div>"
      ],
      "text/plain": [
       "          PatientId  AppointmentID           Age   Scholarship  Hipertension  \\\n",
       "count  1.768500e+04   1.768500e+04  17685.000000  17685.000000  17685.000000   \n",
       "mean   1.511027e+14   5.675234e+06     36.937631      0.097936      0.196777   \n",
       "std    2.612568e+14   7.136192e+04     23.250527      0.297237      0.397574   \n",
       "min    4.374176e+04   5.134197e+06      0.000000      0.000000      0.000000   \n",
       "25%    4.164541e+12   5.640550e+06     17.000000      0.000000      0.000000   \n",
       "50%    2.985670e+13   5.680669e+06     37.000000      0.000000      0.000000   \n",
       "75%    9.458256e+13   5.725225e+06     55.000000      0.000000      0.000000   \n",
       "max    9.999350e+14   5.790376e+06    115.000000      1.000000      1.000000   \n",
       "\n",
       "           Diabetes    Alcoholism       Handcap  SMS_received  \n",
       "count  17685.000000  17685.000000  17685.000000  17685.000000  \n",
       "mean       0.071416      0.031269      0.022844      0.320271  \n",
       "std        0.257526      0.174050      0.159657      0.466594  \n",
       "min        0.000000      0.000000      0.000000      0.000000  \n",
       "25%        0.000000      0.000000      0.000000      0.000000  \n",
       "50%        0.000000      0.000000      0.000000      0.000000  \n",
       "75%        0.000000      0.000000      0.000000      1.000000  \n",
       "max        1.000000      1.000000      4.000000      1.000000  "
      ]
     },
     "execution_count": 140,
     "metadata": {},
     "output_type": "execute_result"
    }
   ],
   "source": [
    "test.describe()"
   ]
  },
  {
   "cell_type": "code",
   "execution_count": 141,
   "metadata": {},
   "outputs": [
    {
     "data": {
      "text/html": [
       "<div>\n",
       "<style scoped>\n",
       "    .dataframe tbody tr th:only-of-type {\n",
       "        vertical-align: middle;\n",
       "    }\n",
       "\n",
       "    .dataframe tbody tr th {\n",
       "        vertical-align: top;\n",
       "    }\n",
       "\n",
       "    .dataframe thead th {\n",
       "        text-align: right;\n",
       "    }\n",
       "</style>\n",
       "<table border=\"1\" class=\"dataframe\">\n",
       "  <thead>\n",
       "    <tr style=\"text-align: right;\">\n",
       "      <th></th>\n",
       "      <th>No-show</th>\n",
       "      <th>PatientId</th>\n",
       "      <th>AppointmentID</th>\n",
       "      <th>Gender</th>\n",
       "      <th>ScheduledDay</th>\n",
       "      <th>AppointmentDay</th>\n",
       "      <th>Age</th>\n",
       "      <th>Neighbourhood</th>\n",
       "      <th>Scholarship</th>\n",
       "      <th>Hipertension</th>\n",
       "      <th>Diabetes</th>\n",
       "      <th>Alcoholism</th>\n",
       "      <th>Handcap</th>\n",
       "      <th>SMS_received</th>\n",
       "    </tr>\n",
       "  </thead>\n",
       "  <tbody>\n",
       "    <tr>\n",
       "      <th>0</th>\n",
       "      <td>No</td>\n",
       "      <td>8.989312e+13</td>\n",
       "      <td>5670134</td>\n",
       "      <td>F</td>\n",
       "      <td>2016-05-06T13:06:20Z</td>\n",
       "      <td>2016-05-10T00:00:00Z</td>\n",
       "      <td>63</td>\n",
       "      <td>MONTE BELO</td>\n",
       "      <td>0</td>\n",
       "      <td>0</td>\n",
       "      <td>0</td>\n",
       "      <td>0</td>\n",
       "      <td>0</td>\n",
       "      <td>1</td>\n",
       "    </tr>\n",
       "    <tr>\n",
       "      <th>1</th>\n",
       "      <td>Yes</td>\n",
       "      <td>2.971169e+13</td>\n",
       "      <td>5652716</td>\n",
       "      <td>F</td>\n",
       "      <td>2016-05-03T10:31:51Z</td>\n",
       "      <td>2016-05-09T00:00:00Z</td>\n",
       "      <td>31</td>\n",
       "      <td>SANTOS REIS</td>\n",
       "      <td>0</td>\n",
       "      <td>0</td>\n",
       "      <td>1</td>\n",
       "      <td>0</td>\n",
       "      <td>0</td>\n",
       "      <td>0</td>\n",
       "    </tr>\n",
       "    <tr>\n",
       "      <th>2</th>\n",
       "      <td>No</td>\n",
       "      <td>5.414642e+12</td>\n",
       "      <td>5690801</td>\n",
       "      <td>F</td>\n",
       "      <td>2016-05-12T10:41:47Z</td>\n",
       "      <td>2016-05-12T00:00:00Z</td>\n",
       "      <td>71</td>\n",
       "      <td>JARDIM CAMBURI</td>\n",
       "      <td>0</td>\n",
       "      <td>0</td>\n",
       "      <td>0</td>\n",
       "      <td>0</td>\n",
       "      <td>0</td>\n",
       "      <td>0</td>\n",
       "    </tr>\n",
       "    <tr>\n",
       "      <th>3</th>\n",
       "      <td>Yes</td>\n",
       "      <td>5.258853e+14</td>\n",
       "      <td>5653220</td>\n",
       "      <td>F</td>\n",
       "      <td>2016-05-03T11:36:42Z</td>\n",
       "      <td>2016-05-18T00:00:00Z</td>\n",
       "      <td>0</td>\n",
       "      <td>ILHA DE SANTA MARIA</td>\n",
       "      <td>0</td>\n",
       "      <td>0</td>\n",
       "      <td>0</td>\n",
       "      <td>0</td>\n",
       "      <td>0</td>\n",
       "      <td>0</td>\n",
       "    </tr>\n",
       "    <tr>\n",
       "      <th>4</th>\n",
       "      <td>No</td>\n",
       "      <td>4.924131e+12</td>\n",
       "      <td>5782097</td>\n",
       "      <td>M</td>\n",
       "      <td>2016-06-07T10:34:15Z</td>\n",
       "      <td>2016-06-07T00:00:00Z</td>\n",
       "      <td>41</td>\n",
       "      <td>DO QUADRO</td>\n",
       "      <td>0</td>\n",
       "      <td>0</td>\n",
       "      <td>0</td>\n",
       "      <td>0</td>\n",
       "      <td>0</td>\n",
       "      <td>0</td>\n",
       "    </tr>\n",
       "    <tr>\n",
       "      <th>5</th>\n",
       "      <td>No</td>\n",
       "      <td>5.727532e+12</td>\n",
       "      <td>5648722</td>\n",
       "      <td>M</td>\n",
       "      <td>2016-05-02T16:25:48Z</td>\n",
       "      <td>2016-05-05T00:00:00Z</td>\n",
       "      <td>48</td>\n",
       "      <td>GRANDE VITÓRIA</td>\n",
       "      <td>0</td>\n",
       "      <td>0</td>\n",
       "      <td>0</td>\n",
       "      <td>0</td>\n",
       "      <td>0</td>\n",
       "      <td>0</td>\n",
       "    </tr>\n",
       "    <tr>\n",
       "      <th>6</th>\n",
       "      <td>No</td>\n",
       "      <td>2.821425e+14</td>\n",
       "      <td>5731929</td>\n",
       "      <td>M</td>\n",
       "      <td>2016-05-24T10:43:55Z</td>\n",
       "      <td>2016-06-03T00:00:00Z</td>\n",
       "      <td>26</td>\n",
       "      <td>PARQUE MOSCOSO</td>\n",
       "      <td>0</td>\n",
       "      <td>0</td>\n",
       "      <td>0</td>\n",
       "      <td>0</td>\n",
       "      <td>0</td>\n",
       "      <td>0</td>\n",
       "    </tr>\n",
       "  </tbody>\n",
       "</table>\n",
       "</div>"
      ],
      "text/plain": [
       "  No-show     PatientId  AppointmentID Gender          ScheduledDay  \\\n",
       "0      No  8.989312e+13        5670134      F  2016-05-06T13:06:20Z   \n",
       "1     Yes  2.971169e+13        5652716      F  2016-05-03T10:31:51Z   \n",
       "2      No  5.414642e+12        5690801      F  2016-05-12T10:41:47Z   \n",
       "3     Yes  5.258853e+14        5653220      F  2016-05-03T11:36:42Z   \n",
       "4      No  4.924131e+12        5782097      M  2016-06-07T10:34:15Z   \n",
       "5      No  5.727532e+12        5648722      M  2016-05-02T16:25:48Z   \n",
       "6      No  2.821425e+14        5731929      M  2016-05-24T10:43:55Z   \n",
       "\n",
       "         AppointmentDay  Age        Neighbourhood  Scholarship  Hipertension  \\\n",
       "0  2016-05-10T00:00:00Z   63           MONTE BELO            0             0   \n",
       "1  2016-05-09T00:00:00Z   31          SANTOS REIS            0             0   \n",
       "2  2016-05-12T00:00:00Z   71       JARDIM CAMBURI            0             0   \n",
       "3  2016-05-18T00:00:00Z    0  ILHA DE SANTA MARIA            0             0   \n",
       "4  2016-06-07T00:00:00Z   41            DO QUADRO            0             0   \n",
       "5  2016-05-05T00:00:00Z   48       GRANDE VITÓRIA            0             0   \n",
       "6  2016-06-03T00:00:00Z   26       PARQUE MOSCOSO            0             0   \n",
       "\n",
       "   Diabetes  Alcoholism  Handcap  SMS_received  \n",
       "0         0           0        0             1  \n",
       "1         1           0        0             0  \n",
       "2         0           0        0             0  \n",
       "3         0           0        0             0  \n",
       "4         0           0        0             0  \n",
       "5         0           0        0             0  \n",
       "6         0           0        0             0  "
      ]
     },
     "execution_count": 141,
     "metadata": {},
     "output_type": "execute_result"
    }
   ],
   "source": [
    "train.head(7)"
   ]
  },
  {
   "cell_type": "code",
   "execution_count": 40,
   "metadata": {},
   "outputs": [
    {
     "data": {
      "text/html": [
       "<div>\n",
       "<style scoped>\n",
       "    .dataframe tbody tr th:only-of-type {\n",
       "        vertical-align: middle;\n",
       "    }\n",
       "\n",
       "    .dataframe tbody tr th {\n",
       "        vertical-align: top;\n",
       "    }\n",
       "\n",
       "    .dataframe thead th {\n",
       "        text-align: right;\n",
       "    }\n",
       "</style>\n",
       "<table border=\"1\" class=\"dataframe\">\n",
       "  <thead>\n",
       "    <tr style=\"text-align: right;\">\n",
       "      <th></th>\n",
       "      <th>Unnamed: 0</th>\n",
       "      <th>No-show</th>\n",
       "      <th>PatientId</th>\n",
       "      <th>AppointmentID</th>\n",
       "      <th>Gender</th>\n",
       "      <th>ScheduledDay</th>\n",
       "      <th>AppointmentDay</th>\n",
       "      <th>Age</th>\n",
       "      <th>Neighbourhood</th>\n",
       "      <th>Scholarship</th>\n",
       "      <th>Hipertension</th>\n",
       "      <th>Diabetes</th>\n",
       "      <th>Alcoholism</th>\n",
       "      <th>Handcap</th>\n",
       "      <th>SMS_received</th>\n",
       "    </tr>\n",
       "  </thead>\n",
       "  <tbody>\n",
       "    <tr>\n",
       "      <th>0</th>\n",
       "      <td>55824</td>\n",
       "      <td>No</td>\n",
       "      <td>8.648938e+12</td>\n",
       "      <td>5707284</td>\n",
       "      <td>M</td>\n",
       "      <td>2016-05-17T09:27:12Z</td>\n",
       "      <td>2016-05-20T00:00:00Z</td>\n",
       "      <td>37</td>\n",
       "      <td>SANTO ANTÔNIO</td>\n",
       "      <td>0</td>\n",
       "      <td>0</td>\n",
       "      <td>0</td>\n",
       "      <td>0</td>\n",
       "      <td>0</td>\n",
       "      <td>0</td>\n",
       "    </tr>\n",
       "    <tr>\n",
       "      <th>1</th>\n",
       "      <td>46525</td>\n",
       "      <td>Yes</td>\n",
       "      <td>2.535634e+12</td>\n",
       "      <td>5693684</td>\n",
       "      <td>F</td>\n",
       "      <td>2016-05-13T07:34:07Z</td>\n",
       "      <td>2016-05-18T00:00:00Z</td>\n",
       "      <td>48</td>\n",
       "      <td>RESISTÊNCIA</td>\n",
       "      <td>0</td>\n",
       "      <td>1</td>\n",
       "      <td>0</td>\n",
       "      <td>0</td>\n",
       "      <td>0</td>\n",
       "      <td>0</td>\n",
       "    </tr>\n",
       "    <tr>\n",
       "      <th>2</th>\n",
       "      <td>6160</td>\n",
       "      <td>No</td>\n",
       "      <td>9.967568e+13</td>\n",
       "      <td>5765655</td>\n",
       "      <td>M</td>\n",
       "      <td>2016-06-02T13:29:04Z</td>\n",
       "      <td>2016-06-02T00:00:00Z</td>\n",
       "      <td>50</td>\n",
       "      <td>GURIGICA</td>\n",
       "      <td>0</td>\n",
       "      <td>0</td>\n",
       "      <td>0</td>\n",
       "      <td>0</td>\n",
       "      <td>0</td>\n",
       "      <td>0</td>\n",
       "    </tr>\n",
       "  </tbody>\n",
       "</table>\n",
       "</div>"
      ],
      "text/plain": [
       "   Unnamed: 0 No-show     PatientId  AppointmentID Gender  \\\n",
       "0       55824      No  8.648938e+12        5707284      M   \n",
       "1       46525     Yes  2.535634e+12        5693684      F   \n",
       "2        6160      No  9.967568e+13        5765655      M   \n",
       "\n",
       "           ScheduledDay        AppointmentDay  Age  Neighbourhood  \\\n",
       "0  2016-05-17T09:27:12Z  2016-05-20T00:00:00Z   37  SANTO ANTÔNIO   \n",
       "1  2016-05-13T07:34:07Z  2016-05-18T00:00:00Z   48    RESISTÊNCIA   \n",
       "2  2016-06-02T13:29:04Z  2016-06-02T00:00:00Z   50       GURIGICA   \n",
       "\n",
       "   Scholarship  Hipertension  Diabetes  Alcoholism  Handcap  SMS_received  \n",
       "0            0             0         0           0        0             0  \n",
       "1            0             1         0           0        0             0  \n",
       "2            0             0         0           0        0             0  "
      ]
     },
     "execution_count": 40,
     "metadata": {},
     "output_type": "execute_result"
    }
   ],
   "source": [
    "test.head(3)"
   ]
  },
  {
   "cell_type": "markdown",
   "metadata": {},
   "source": [
    "#### Number of Rows and Columns"
   ]
  },
  {
   "cell_type": "code",
   "execution_count": 204,
   "metadata": {},
   "outputs": [
    {
     "data": {
      "text/plain": [
       "(70736, 16)"
      ]
     },
     "execution_count": 204,
     "metadata": {},
     "output_type": "execute_result"
    }
   ],
   "source": [
    "train.shape"
   ]
  },
  {
   "cell_type": "code",
   "execution_count": 205,
   "metadata": {},
   "outputs": [
    {
     "data": {
      "text/plain": [
       "(17685, 16)"
      ]
     },
     "execution_count": 205,
     "metadata": {},
     "output_type": "execute_result"
    }
   ],
   "source": [
    "test.shape"
   ]
  },
  {
   "cell_type": "markdown",
   "metadata": {},
   "source": [
    "#### Column Names"
   ]
  },
  {
   "cell_type": "code",
   "execution_count": 206,
   "metadata": {},
   "outputs": [
    {
     "data": {
      "text/plain": [
       "Index(['No-show', 'PatientId', 'AppointmentID', 'Gender', 'ScheduledDay',\n",
       "       'AppointmentDay', 'Age', 'Neighbourhood', 'Scholarship', 'Hipertension',\n",
       "       'Diabetes', 'Alcoholism', 'Handcap', 'SMS_received', 'Month',\n",
       "       'AgeClass'],\n",
       "      dtype='object')"
      ]
     },
     "execution_count": 206,
     "metadata": {},
     "output_type": "execute_result"
    }
   ],
   "source": [
    "train.columns"
   ]
  },
  {
   "cell_type": "code",
   "execution_count": 207,
   "metadata": {},
   "outputs": [
    {
     "data": {
      "text/plain": [
       "Index(['No-show', 'PatientId', 'AppointmentID', 'Gender', 'ScheduledDay',\n",
       "       'AppointmentDay', 'Age', 'Neighbourhood', 'Scholarship', 'Hipertension',\n",
       "       'Diabetes', 'Alcoholism', 'Handcap', 'SMS_received', 'Month',\n",
       "       'AgeClass'],\n",
       "      dtype='object')"
      ]
     },
     "execution_count": 207,
     "metadata": {},
     "output_type": "execute_result"
    }
   ],
   "source": [
    "test.columns"
   ]
  },
  {
   "cell_type": "markdown",
   "metadata": {},
   "source": [
    "#### Target Variable"
   ]
  },
  {
   "cell_type": "code",
   "execution_count": 208,
   "metadata": {},
   "outputs": [
    {
     "name": "stdout",
     "output_type": "stream",
     "text": [
      "No     56425\n",
      "Yes    14311\n",
      "Name: No-show, dtype: int64\n",
      "Percent who didn't show up to their appointment: 20.231565256729247\n"
     ]
    }
   ],
   "source": [
    "no_show = train[\"No-show\"].value_counts()\n",
    "print(no_show)\n",
    "\n",
    "Percent_no_show = no_show[\"Yes\"]/ no_show.sum() * 100\n",
    "print(\"Percent who didn't show up to their appointment:\",Percent_no_show )"
   ]
  },
  {
   "cell_type": "code",
   "execution_count": 143,
   "metadata": {},
   "outputs": [
    {
     "data": {
      "text/plain": [
       "No-show           0\n",
       "PatientId         0\n",
       "AppointmentID     0\n",
       "Gender            0\n",
       "ScheduledDay      0\n",
       "AppointmentDay    0\n",
       "Age               0\n",
       "Neighbourhood     0\n",
       "Scholarship       0\n",
       "Hipertension      0\n",
       "Diabetes          0\n",
       "Alcoholism        0\n",
       "Handcap           0\n",
       "SMS_received      0\n",
       "dtype: int64"
      ]
     },
     "execution_count": 143,
     "metadata": {},
     "output_type": "execute_result"
    }
   ],
   "source": [
    "#Checking if there are are any missing values\n",
    "train.isnull().sum()"
   ]
  },
  {
   "cell_type": "code",
   "execution_count": 144,
   "metadata": {},
   "outputs": [
    {
     "name": "stdout",
     "output_type": "stream",
     "text": [
      "       No-show  PatientId  AppointmentID  Gender  ScheduledDay  \\\n",
      "0        False      False          False   False         False   \n",
      "1        False      False          False   False         False   \n",
      "2        False      False          False   False         False   \n",
      "3        False      False          False   False         False   \n",
      "4        False      False          False   False         False   \n",
      "...        ...        ...            ...     ...           ...   \n",
      "70731    False      False          False   False         False   \n",
      "70732    False      False          False   False         False   \n",
      "70733    False      False          False   False         False   \n",
      "70734    False      False          False   False         False   \n",
      "70735    False      False          False   False         False   \n",
      "\n",
      "       AppointmentDay    Age  Neighbourhood  Scholarship  Hipertension  \\\n",
      "0               False  False          False        False         False   \n",
      "1               False  False          False        False         False   \n",
      "2               False  False          False        False         False   \n",
      "3               False  False          False        False         False   \n",
      "4               False  False          False        False         False   \n",
      "...               ...    ...            ...          ...           ...   \n",
      "70731           False  False          False        False         False   \n",
      "70732           False  False          False        False         False   \n",
      "70733           False  False          False        False         False   \n",
      "70734           False  False          False        False         False   \n",
      "70735           False  False          False        False         False   \n",
      "\n",
      "       Diabetes  Alcoholism  Handcap  SMS_received  \n",
      "0         False       False    False         False  \n",
      "1         False       False    False         False  \n",
      "2         False       False    False         False  \n",
      "3         False       False    False         False  \n",
      "4         False       False    False         False  \n",
      "...         ...         ...      ...           ...  \n",
      "70731     False       False    False         False  \n",
      "70732     False       False    False         False  \n",
      "70733     False       False    False         False  \n",
      "70734     False       False    False         False  \n",
      "70735     False       False    False         False  \n",
      "\n",
      "[70736 rows x 14 columns]\n"
     ]
    }
   ],
   "source": [
    "print (train.isnull())"
   ]
  },
  {
   "cell_type": "markdown",
   "metadata": {},
   "source": [
    "#### Recode Target Variable"
   ]
  },
  {
   "cell_type": "code",
   "execution_count": 209,
   "metadata": {},
   "outputs": [],
   "source": [
    "train['No-show'].replace(\"No\", 0,inplace=True)\n",
    "train['No-show'].replace(\"Yes\", 1,inplace=True)"
   ]
  },
  {
   "cell_type": "markdown",
   "metadata": {},
   "source": [
    "#### Exploratory Analysis on Features\n",
    "#### Count of Male vs Female"
   ]
  },
  {
   "cell_type": "code",
   "execution_count": 211,
   "metadata": {},
   "outputs": [
    {
     "data": {
      "text/plain": [
       "F    46033\n",
       "M    24703\n",
       "Name: Gender, dtype: int64"
      ]
     },
     "execution_count": 211,
     "metadata": {},
     "output_type": "execute_result"
    }
   ],
   "source": [
    "train[\"Gender\"].value_counts()"
   ]
  },
  {
   "cell_type": "markdown",
   "metadata": {},
   "source": [
    "#### Seeing how each feature relates to the target variable."
   ]
  },
  {
   "cell_type": "code",
   "execution_count": 212,
   "metadata": {},
   "outputs": [
    {
     "name": "stdout",
     "output_type": "stream",
     "text": [
      "Gender\n",
      "F    0.202724\n",
      "M    0.201554\n",
      "Name: No-show, dtype: float64\n",
      "Hipertension\n",
      "0    0.208843\n",
      "1    0.175942\n",
      "Name: No-show, dtype: float64\n",
      "Alcoholism\n",
      "0    0.202289\n",
      "1    0.203154\n",
      "Name: No-show, dtype: float64\n",
      "Diabetes\n",
      "0    0.204637\n",
      "1    0.172642\n",
      "Name: No-show, dtype: float64\n"
     ]
    }
   ],
   "source": [
    "Exploratory_Analysis = ['Gender','Hipertension','Alcoholism','Diabetes']\n",
    "for r in Exploratory_Analysis :\n",
    "    print(train.groupby(r)['No-show'].mean())\n",
    "#train.groupby('Hipertension')['No-show'].mean()"
   ]
  },
  {
   "cell_type": "markdown",
   "metadata": {},
   "source": [
    "##### Come mostrato sopra, il genere non sembra influire sul fatto che una persona si presenti o meno a un appuntamento, poiché sia i maschi che le femmine non si presentano a circa il 20 percento dei loro appuntamenti.\n",
    "#### Anche il diabete e l'alcolismo non sembrano influenzare con la mancata presenza all'appuntamento."
   ]
  },
  {
   "cell_type": "markdown",
   "metadata": {},
   "source": [
    "### Whether the patient received a text reminder"
   ]
  },
  {
   "cell_type": "code",
   "execution_count": 213,
   "metadata": {},
   "outputs": [
    {
     "data": {
      "text/plain": [
       "SMS_received\n",
       "0    0.166465\n",
       "1    0.277846\n",
       "Name: No-show, dtype: float64"
      ]
     },
     "execution_count": 213,
     "metadata": {},
     "output_type": "execute_result"
    }
   ],
   "source": [
    "train.groupby('SMS_received')['No-show'].mean()"
   ]
  },
  {
   "cell_type": "markdown",
   "metadata": {},
   "source": [
    "#### Inaspettatamente, il 27% dei pazienti che hanno ricevuto un sms  non si sono presentati ai loro appuntamenti, mentre il 17% dei pazienti che non hanno ricevuto un sms si sono presentati ai loro appuntamenti"
   ]
  },
  {
   "cell_type": "markdown",
   "metadata": {},
   "source": [
    "#### Feature Engineering"
   ]
  },
  {
   "cell_type": "markdown",
   "metadata": {},
   "source": [
    "##### Age"
   ]
  },
  {
   "cell_type": "code",
   "execution_count": 216,
   "metadata": {},
   "outputs": [
    {
     "name": "stdout",
     "output_type": "stream",
     "text": [
      "Min Age: 0\n",
      "Max Age: 115\n"
     ]
    }
   ],
   "source": [
    "min_age = train.Age.min()\n",
    "print(\"Min Age:\", min_age)\n",
    "max_age = train.Age.max()\n",
    "print(\"Max Age:\", max_age)"
   ]
  },
  {
   "cell_type": "markdown",
   "metadata": {},
   "source": [
    "### Prima di procedere con la costruzione del modello elimino dal trainining set  i valori anomali in base all'età"
   ]
  },
  {
   "cell_type": "code",
   "execution_count": 241,
   "metadata": {},
   "outputs": [],
   "source": [
    "train = train[(train.Age >= 0) & (train.Age <= 100)] # in questo modo elimino gli outlier"
   ]
  },
  {
   "cell_type": "markdown",
   "metadata": {},
   "source": [
    "#### Wait Time"
   ]
  },
  {
   "cell_type": "markdown",
   "metadata": {},
   "source": [
    "##### Se pianifico un appuntamento con largo anticipo e nessuno me lo ricorda, tendo a dimenticarmene. O quando arriva il giorno dell'appuntamento, mi sento meglio e non mi preoccupo di presentarmi. In questa sezione, creerò una variabile chiamata \"wait_time\" per vedere se il tempo che intercorre tra la data in cui è stato programmato un appuntamento e la data in cui è stato fissato l'appuntamento ha un effetto sul non presentarsi all'appuntamento."
   ]
  },
  {
   "cell_type": "code",
   "execution_count": 218,
   "metadata": {},
   "outputs": [],
   "source": [
    "import numpy as np\n",
    "\n",
    "# Converts the two variables to datetime variables\n",
    "train['ScheduledDay'] = pd.to_datetime(train['ScheduledDay'])\n",
    "train['AppointmentDay'] = pd.to_datetime(train['AppointmentDay'])\n",
    "\n",
    "# Create a variable called \"AwaitingTime\" by subtracting the date the patient made the appointment and the date of the appointment.\n",
    "train['AwaitingTime'] = train[\"AppointmentDay\"].sub(train[\"ScheduledDay\"], axis=0)\n",
    "\n",
    "# Convert the result \"AwaitingTime\" to number of days between appointment day and scheduled day. \n",
    "train[\"AwaitingTime\"] = (train[\"AwaitingTime\"] / np.timedelta64(1, 'D')).abs()"
   ]
  },
  {
   "cell_type": "markdown",
   "metadata": {},
   "source": [
    "## Number of Appointments Missed in the Past"
   ]
  },
  {
   "cell_type": "markdown",
   "metadata": {},
   "source": [
    "#### Ho creato una nuova variabile che aggiunge il numero di appuntamenti che il paziente ha mancato in passato."
   ]
  },
  {
   "cell_type": "code",
   "execution_count": 219,
   "metadata": {},
   "outputs": [],
   "source": [
    "# Number of Appointments Missed by Patient\n",
    "train['Num_App_Missed'] = train.groupby('PatientId')['No-show'].apply(lambda x: x.cumsum())"
   ]
  },
  {
   "cell_type": "code",
   "execution_count": 220,
   "metadata": {},
   "outputs": [
    {
     "data": {
      "text/plain": [
       "Index(['No-show', 'PatientId', 'AppointmentID', 'Gender', 'ScheduledDay',\n",
       "       'AppointmentDay', 'Age', 'Neighbourhood', 'Scholarship', 'Hipertension',\n",
       "       'Diabetes', 'Alcoholism', 'Handcap', 'SMS_received', 'AwaitingTime',\n",
       "       'Num_App_Missed'],\n",
       "      dtype='object')"
      ]
     },
     "execution_count": 220,
     "metadata": {},
     "output_type": "execute_result"
    }
   ],
   "source": [
    "train.columns"
   ]
  },
  {
   "cell_type": "markdown",
   "metadata": {},
   "source": [
    "#### Lascerò delle  colonne che non verranno utilizzate per la modellazione"
   ]
  },
  {
   "cell_type": "code",
   "execution_count": null,
   "metadata": {},
   "outputs": [],
   "source": [
    "train.drop([\"PatientId\",'AppointmentID',\n",
    "         'ScheduledDay','Handcap','AppointmentDay','Neighbourhood'], axis=1, inplace = True)"
   ]
  },
  {
   "cell_type": "markdown",
   "metadata": {},
   "source": [
    "#### Di seguito le features finali e le variabili target "
   ]
  },
  {
   "cell_type": "code",
   "execution_count": 8,
   "metadata": {},
   "outputs": [
    {
     "ename": "KeyError",
     "evalue": "\"['AwaitingTime', 'Num_App_Missed'] not in index\"",
     "output_type": "error",
     "traceback": [
      "\u001b[1;31m---------------------------------------------------------------------------\u001b[0m",
      "\u001b[1;31mKeyError\u001b[0m                                  Traceback (most recent call last)",
      "\u001b[1;32m<ipython-input-8-e9a35eab2e5b>\u001b[0m in \u001b[0;36m<module>\u001b[1;34m\u001b[0m\n\u001b[0;32m      1\u001b[0m X = train[['Gender', 'Diabetes','Hipertension', 'Scholarship', 'SMS_received',\n\u001b[1;32m----> 2\u001b[1;33m          'Num_App_Missed', 'Age', 'AwaitingTime']]\n\u001b[0m\u001b[0;32m      3\u001b[0m \u001b[1;33m\u001b[0m\u001b[0m\n\u001b[0;32m      4\u001b[0m \u001b[0my\u001b[0m \u001b[1;33m=\u001b[0m \u001b[0mtrain\u001b[0m\u001b[1;33m[\u001b[0m\u001b[1;34m\"No-show\"\u001b[0m\u001b[1;33m]\u001b[0m\u001b[1;33m\u001b[0m\u001b[1;33m\u001b[0m\u001b[0m\n",
      "\u001b[1;32m~\\anaconda3\\lib\\site-packages\\pandas\\core\\frame.py\u001b[0m in \u001b[0;36m__getitem__\u001b[1;34m(self, key)\u001b[0m\n\u001b[0;32m   2804\u001b[0m             \u001b[1;32mif\u001b[0m \u001b[0mis_iterator\u001b[0m\u001b[1;33m(\u001b[0m\u001b[0mkey\u001b[0m\u001b[1;33m)\u001b[0m\u001b[1;33m:\u001b[0m\u001b[1;33m\u001b[0m\u001b[1;33m\u001b[0m\u001b[0m\n\u001b[0;32m   2805\u001b[0m                 \u001b[0mkey\u001b[0m \u001b[1;33m=\u001b[0m \u001b[0mlist\u001b[0m\u001b[1;33m(\u001b[0m\u001b[0mkey\u001b[0m\u001b[1;33m)\u001b[0m\u001b[1;33m\u001b[0m\u001b[1;33m\u001b[0m\u001b[0m\n\u001b[1;32m-> 2806\u001b[1;33m             \u001b[0mindexer\u001b[0m \u001b[1;33m=\u001b[0m \u001b[0mself\u001b[0m\u001b[1;33m.\u001b[0m\u001b[0mloc\u001b[0m\u001b[1;33m.\u001b[0m\u001b[0m_get_listlike_indexer\u001b[0m\u001b[1;33m(\u001b[0m\u001b[0mkey\u001b[0m\u001b[1;33m,\u001b[0m \u001b[0maxis\u001b[0m\u001b[1;33m=\u001b[0m\u001b[1;36m1\u001b[0m\u001b[1;33m,\u001b[0m \u001b[0mraise_missing\u001b[0m\u001b[1;33m=\u001b[0m\u001b[1;32mTrue\u001b[0m\u001b[1;33m)\u001b[0m\u001b[1;33m[\u001b[0m\u001b[1;36m1\u001b[0m\u001b[1;33m]\u001b[0m\u001b[1;33m\u001b[0m\u001b[1;33m\u001b[0m\u001b[0m\n\u001b[0m\u001b[0;32m   2807\u001b[0m \u001b[1;33m\u001b[0m\u001b[0m\n\u001b[0;32m   2808\u001b[0m         \u001b[1;31m# take() does not accept boolean indexers\u001b[0m\u001b[1;33m\u001b[0m\u001b[1;33m\u001b[0m\u001b[1;33m\u001b[0m\u001b[0m\n",
      "\u001b[1;32m~\\anaconda3\\lib\\site-packages\\pandas\\core\\indexing.py\u001b[0m in \u001b[0;36m_get_listlike_indexer\u001b[1;34m(self, key, axis, raise_missing)\u001b[0m\n\u001b[0;32m   1550\u001b[0m \u001b[1;33m\u001b[0m\u001b[0m\n\u001b[0;32m   1551\u001b[0m         self._validate_read_indexer(\n\u001b[1;32m-> 1552\u001b[1;33m             \u001b[0mkeyarr\u001b[0m\u001b[1;33m,\u001b[0m \u001b[0mindexer\u001b[0m\u001b[1;33m,\u001b[0m \u001b[0mo\u001b[0m\u001b[1;33m.\u001b[0m\u001b[0m_get_axis_number\u001b[0m\u001b[1;33m(\u001b[0m\u001b[0maxis\u001b[0m\u001b[1;33m)\u001b[0m\u001b[1;33m,\u001b[0m \u001b[0mraise_missing\u001b[0m\u001b[1;33m=\u001b[0m\u001b[0mraise_missing\u001b[0m\u001b[1;33m\u001b[0m\u001b[1;33m\u001b[0m\u001b[0m\n\u001b[0m\u001b[0;32m   1553\u001b[0m         )\n\u001b[0;32m   1554\u001b[0m         \u001b[1;32mreturn\u001b[0m \u001b[0mkeyarr\u001b[0m\u001b[1;33m,\u001b[0m \u001b[0mindexer\u001b[0m\u001b[1;33m\u001b[0m\u001b[1;33m\u001b[0m\u001b[0m\n",
      "\u001b[1;32m~\\anaconda3\\lib\\site-packages\\pandas\\core\\indexing.py\u001b[0m in \u001b[0;36m_validate_read_indexer\u001b[1;34m(self, key, indexer, axis, raise_missing)\u001b[0m\n\u001b[0;32m   1643\u001b[0m             \u001b[1;32mif\u001b[0m \u001b[1;32mnot\u001b[0m \u001b[1;33m(\u001b[0m\u001b[0mself\u001b[0m\u001b[1;33m.\u001b[0m\u001b[0mname\u001b[0m \u001b[1;33m==\u001b[0m \u001b[1;34m\"loc\"\u001b[0m \u001b[1;32mand\u001b[0m \u001b[1;32mnot\u001b[0m \u001b[0mraise_missing\u001b[0m\u001b[1;33m)\u001b[0m\u001b[1;33m:\u001b[0m\u001b[1;33m\u001b[0m\u001b[1;33m\u001b[0m\u001b[0m\n\u001b[0;32m   1644\u001b[0m                 \u001b[0mnot_found\u001b[0m \u001b[1;33m=\u001b[0m \u001b[0mlist\u001b[0m\u001b[1;33m(\u001b[0m\u001b[0mset\u001b[0m\u001b[1;33m(\u001b[0m\u001b[0mkey\u001b[0m\u001b[1;33m)\u001b[0m \u001b[1;33m-\u001b[0m \u001b[0mset\u001b[0m\u001b[1;33m(\u001b[0m\u001b[0max\u001b[0m\u001b[1;33m)\u001b[0m\u001b[1;33m)\u001b[0m\u001b[1;33m\u001b[0m\u001b[1;33m\u001b[0m\u001b[0m\n\u001b[1;32m-> 1645\u001b[1;33m                 \u001b[1;32mraise\u001b[0m \u001b[0mKeyError\u001b[0m\u001b[1;33m(\u001b[0m\u001b[1;34mf\"{not_found} not in index\"\u001b[0m\u001b[1;33m)\u001b[0m\u001b[1;33m\u001b[0m\u001b[1;33m\u001b[0m\u001b[0m\n\u001b[0m\u001b[0;32m   1646\u001b[0m \u001b[1;33m\u001b[0m\u001b[0m\n\u001b[0;32m   1647\u001b[0m             \u001b[1;31m# we skip the warning on Categorical/Interval\u001b[0m\u001b[1;33m\u001b[0m\u001b[1;33m\u001b[0m\u001b[1;33m\u001b[0m\u001b[0m\n",
      "\u001b[1;31mKeyError\u001b[0m: \"['AwaitingTime', 'Num_App_Missed'] not in index\""
     ]
    }
   ],
   "source": [
    "X = train[['Gender', 'Diabetes','Hipertension', 'Scholarship', 'SMS_received',\n",
    "         'Num_App_Missed', 'Age', 'AwaitingTime']]\n",
    "\n",
    "y = train[\"No-show\"]\n"
   ]
  },
  {
   "cell_type": "code",
   "execution_count": 5,
   "metadata": {},
   "outputs": [
    {
     "ename": "NameError",
     "evalue": "name 'X' is not defined",
     "output_type": "error",
     "traceback": [
      "\u001b[1;31m---------------------------------------------------------------------------\u001b[0m",
      "\u001b[1;31mNameError\u001b[0m                                 Traceback (most recent call last)",
      "\u001b[1;32m<ipython-input-5-7d6fca5794a9>\u001b[0m in \u001b[0;36m<module>\u001b[1;34m\u001b[0m\n\u001b[0;32m      1\u001b[0m \u001b[1;31m#This will create dummies for the remaining variables (Gender)\u001b[0m\u001b[1;33m\u001b[0m\u001b[1;33m\u001b[0m\u001b[1;33m\u001b[0m\u001b[0m\n\u001b[1;32m----> 2\u001b[1;33m \u001b[0mX_train1\u001b[0m \u001b[1;33m=\u001b[0m \u001b[0mpd\u001b[0m\u001b[1;33m.\u001b[0m\u001b[0mget_dummies\u001b[0m\u001b[1;33m(\u001b[0m\u001b[0mX\u001b[0m\u001b[1;33m)\u001b[0m\u001b[1;33m\u001b[0m\u001b[1;33m\u001b[0m\u001b[0m\n\u001b[0m",
      "\u001b[1;31mNameError\u001b[0m: name 'X' is not defined"
     ]
    }
   ],
   "source": [
    "#This will create dummies for the remaining variables (Gender)\n",
    "X_train1 = pd.get_dummies(X)"
   ]
  },
  {
   "cell_type": "markdown",
   "metadata": {},
   "source": [
    "#### Questo approccio è più flessibile (rispetto al Label Encoding e al One-Hot Encoding), perché consente di codificare tutte le colonne (features) desiderate e di scegliere come etichettare le colonne utilizzando un prefisso. "
   ]
  },
  {
   "cell_type": "code",
   "execution_count": 2,
   "metadata": {},
   "outputs": [
    {
     "ename": "NameError",
     "evalue": "name 'X_train1' is not defined",
     "output_type": "error",
     "traceback": [
      "\u001b[1;31m---------------------------------------------------------------------------\u001b[0m",
      "\u001b[1;31mNameError\u001b[0m                                 Traceback (most recent call last)",
      "\u001b[1;32m<ipython-input-2-c8127be3532f>\u001b[0m in \u001b[0;36m<module>\u001b[1;34m\u001b[0m\n\u001b[0;32m      1\u001b[0m \u001b[1;32mfrom\u001b[0m \u001b[0msklearn\u001b[0m\u001b[1;33m.\u001b[0m\u001b[0mpreprocessing\u001b[0m \u001b[1;32mimport\u001b[0m \u001b[0mStandardScaler\u001b[0m\u001b[1;33m\u001b[0m\u001b[1;33m\u001b[0m\u001b[0m\n\u001b[1;32m----> 2\u001b[1;33m \u001b[0mscaler\u001b[0m \u001b[1;33m=\u001b[0m \u001b[0mStandardScaler\u001b[0m\u001b[1;33m(\u001b[0m\u001b[1;33m)\u001b[0m\u001b[1;33m.\u001b[0m\u001b[0mfit\u001b[0m\u001b[1;33m(\u001b[0m\u001b[0mX_train1\u001b[0m\u001b[1;33m)\u001b[0m\u001b[1;33m\u001b[0m\u001b[1;33m\u001b[0m\u001b[0m\n\u001b[0m\u001b[0;32m      3\u001b[0m \u001b[0mrescaledX2\u001b[0m \u001b[1;33m=\u001b[0m \u001b[0mscaler\u001b[0m\u001b[1;33m.\u001b[0m\u001b[0mtransform\u001b[0m\u001b[1;33m(\u001b[0m\u001b[0mX_train1\u001b[0m\u001b[1;33m)\u001b[0m\u001b[1;33m\u001b[0m\u001b[1;33m\u001b[0m\u001b[0m\n\u001b[0;32m      4\u001b[0m \u001b[1;31m# summarize transformed data\u001b[0m\u001b[1;33m\u001b[0m\u001b[1;33m\u001b[0m\u001b[1;33m\u001b[0m\u001b[0m\n\u001b[0;32m      5\u001b[0m \u001b[0mnp\u001b[0m\u001b[1;33m.\u001b[0m\u001b[0mset_printoptions\u001b[0m\u001b[1;33m(\u001b[0m\u001b[0mprecision\u001b[0m\u001b[1;33m=\u001b[0m\u001b[1;36m3\u001b[0m\u001b[1;33m)\u001b[0m\u001b[1;33m\u001b[0m\u001b[1;33m\u001b[0m\u001b[0m\n",
      "\u001b[1;31mNameError\u001b[0m: name 'X_train1' is not defined"
     ]
    }
   ],
   "source": [
    "from sklearn.preprocessing import StandardScaler\n",
    "scaler = StandardScaler().fit(X_train1)\n",
    "rescaledX2 = scaler.transform(X_train1)\n",
    "# summarize transformed data\n",
    "np.set_printoptions(precision=3)\n",
    "print(rescaledX2[0:5,:])"
   ]
  },
  {
   "cell_type": "code",
   "execution_count": 239,
   "metadata": {},
   "outputs": [
    {
     "name": "stdout",
     "output_type": "stream",
     "text": [
      "Results:\n",
      "Accuracy 0.9983600995249944\n",
      "Specificity: 1.0\n",
      "False Positive Rate: 0.0\n"
     ]
    }
   ],
   "source": [
    "\n",
    "from sklearn import metrics\n",
    "from sklearn.linear_model import LogisticRegression\n",
    "from sklearn.model_selection import train_test_split\n",
    "\n",
    "# Create Training and Test Dataset with 75% Training and 25% Test\n",
    "X_train, X_test, y_train, y_test = train_test_split(rescaledX2, y, test_size=0.25)\n",
    "\n",
    "# Run Logistic Regression\n",
    "logreg = LogisticRegression()\n",
    "logreg.fit(X_train, y_train)\n",
    "y_pred = logreg.predict(X_test)\n",
    "\n",
    "# Analyze results\n",
    "print(\"Results:\")\n",
    "print(\"Accuracy\", metrics.accuracy_score(y_test,y_pred))\n",
    "\n",
    "# save confusion matrix and slice into four pieces\n",
    "confusion = metrics.confusion_matrix(y_test, y_pred)\n",
    "TP = confusion[1, 1]\n",
    "TN = confusion[0, 0]\n",
    "FP = confusion[0, 1]\n",
    "FN = confusion[1, 0]\n",
    "\n",
    "#Specificity: When the actual value is negative, how often is the prediction correct?\n",
    "print(\"Specificity:\",TN / float(TN + FP))\n",
    "\n",
    "#False Positive Rate: When the actual value is negative, how often is the prediction incorrect?\n",
    "print(\"False Positive Rate:\",FP / float(TN + FP))\n",
    "\n"
   ]
  },
  {
   "cell_type": "code",
   "execution_count": 1,
   "metadata": {},
   "outputs": [
    {
     "ename": "NameError",
     "evalue": "name 'rescaledX2' is not defined",
     "output_type": "error",
     "traceback": [
      "\u001b[1;31m---------------------------------------------------------------------------\u001b[0m",
      "\u001b[1;31mNameError\u001b[0m                                 Traceback (most recent call last)",
      "\u001b[1;32m<ipython-input-1-53c64506774e>\u001b[0m in \u001b[0;36m<module>\u001b[1;34m\u001b[0m\n\u001b[0;32m      5\u001b[0m \u001b[1;33m\u001b[0m\u001b[0m\n\u001b[0;32m      6\u001b[0m \u001b[1;31m# Create Training and Test Dataset with 75% Training and 25% Test\u001b[0m\u001b[1;33m\u001b[0m\u001b[1;33m\u001b[0m\u001b[1;33m\u001b[0m\u001b[0m\n\u001b[1;32m----> 7\u001b[1;33m \u001b[0mX_train\u001b[0m\u001b[1;33m,\u001b[0m \u001b[0mX_test\u001b[0m\u001b[1;33m,\u001b[0m \u001b[0my_train\u001b[0m\u001b[1;33m,\u001b[0m \u001b[0my_test\u001b[0m \u001b[1;33m=\u001b[0m \u001b[0mtrain_test_split\u001b[0m\u001b[1;33m(\u001b[0m\u001b[0mrescaledX2\u001b[0m\u001b[1;33m,\u001b[0m \u001b[0my\u001b[0m\u001b[1;33m,\u001b[0m \u001b[0mtest_size\u001b[0m\u001b[1;33m=\u001b[0m\u001b[1;36m0.25\u001b[0m\u001b[1;33m)\u001b[0m\u001b[1;33m\u001b[0m\u001b[1;33m\u001b[0m\u001b[0m\n\u001b[0m\u001b[0;32m      8\u001b[0m \u001b[1;33m\u001b[0m\u001b[0m\n\u001b[0;32m      9\u001b[0m \u001b[1;31m# Run GradientBoostingClassifier\u001b[0m\u001b[1;33m\u001b[0m\u001b[1;33m\u001b[0m\u001b[1;33m\u001b[0m\u001b[0m\n",
      "\u001b[1;31mNameError\u001b[0m: name 'rescaledX2' is not defined"
     ]
    }
   ],
   "source": [
    "from sklearn import metrics\n",
    "from sklearn.linear_model import LogisticRegression\n",
    "from sklearn.model_selection import train_test_split\n",
    "from sklearn.ensemble import  GradientBoostingClassifier\n",
    "\n",
    "# Create Training and Test Dataset with 75% Training and 25% Test\n",
    "X_train, X_test, y_train, y_test = train_test_split(rescaledX2, y, test_size=0.25)\n",
    "\n",
    "# Run GradientBoostingClassifier\n",
    "grad = GradientBoostingClassifier()\n",
    "grad.fit(X_train, y_train)\n",
    "y_pred = grad.predict(X_test)\n",
    "\n",
    "# Analyze results\n",
    "print(\"Results:\")\n",
    "print(\"Accuracy\", metrics.accuracy_score(y_test,y_pred))\n",
    "\n",
    "# save confusion matrix and slice into four pieces\n",
    "confusion = metrics.confusion_matrix(y_test, y_pred)\n",
    "TP = confusion[1, 1]\n",
    "TN = confusion[0, 0]\n",
    "FP = confusion[0, 1]\n",
    "FN = confusion[1, 0]\n",
    "\n",
    "#Specificity: When the actual value is negative, how often is the prediction correct?\n",
    "print(\"Specificity:\",TN / float(TN + FP))\n",
    "\n",
    "#False Positive Rate: When the actual value is negative, how often is the prediction incorrect?\n",
    "print(\"False Positive Rate:\",FP / float(TN + FP))\n"
   ]
  },
  {
   "cell_type": "code",
   "execution_count": null,
   "metadata": {},
   "outputs": [],
   "source": []
  }
 ],
 "metadata": {
  "kernelspec": {
   "display_name": "Python 3",
   "language": "python",
   "name": "python3"
  }
 },
 "nbformat": 4,
 "nbformat_minor": 4
}
